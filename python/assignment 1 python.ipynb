{
 "cells": [
  {
   "cell_type": "markdown",
   "id": "5f1fe116-e7cf-45e1-86a5-473445d9952f",
   "metadata": {},
   "source": [
    "### 1. Using keys and indexing, grab the 'hello' afrom the following dictionary"
   ]
  },
  {
   "cell_type": "code",
   "execution_count": 1,
   "id": "061e2dba-e128-4942-be35-b45c680d013c",
   "metadata": {},
   "outputs": [],
   "source": [
    "d = {'k1':[1,2,\n",
    "           {'k2':['this is tricky',{'tough':[1,2,['hello']]}]}\n",
    "          ] }"
   ]
  },
  {
   "cell_type": "code",
   "execution_count": 2,
   "id": "0b5f5abd",
   "metadata": {},
   "outputs": [
    {
     "data": {
      "text/plain": [
       "'hello'"
      ]
     },
     "execution_count": 2,
     "metadata": {},
     "output_type": "execute_result"
    }
   ],
   "source": [
    "d.get('k1')[2].get('k2')[1].get('tough')[2][0]"
   ]
  },
  {
   "cell_type": "markdown",
   "id": "689c01fb-3911-40be-8e0b-00a8eab4dd18",
   "metadata": {},
   "source": [
    "### 2. Write a Python function that takes a list and returns a new list with unique elements of the first list.\n",
    "**!!!! DO NOT USE list(set())**  \\\n",
    "    Sample List : [1,1,1,1,2,2,3,3,3,3,4,5]   \\\n",
    "    Unique List : [1, 2, 3, 4, 5]"
   ]
  },
  {
   "cell_type": "code",
   "execution_count": 3,
   "id": "883a501b",
   "metadata": {},
   "outputs": [
    {
     "data": {
      "text/plain": [
       "[1, 2, 3, 4, 5]"
      ]
     },
     "execution_count": 3,
     "metadata": {},
     "output_type": "execute_result"
    }
   ],
   "source": [
    " list1=[1,1,1,1,2,2,3,3,3,3,4,5]\n",
    "#  list1.count(6)\n",
    "def unique(list1):\n",
    "    list_ans=[]\n",
    "    for i in range(len(list1)):\n",
    "        if list_ans.count(list1[i])==0:\n",
    "            list_ans.append(list1[i])\n",
    "    return list_ans    \n",
    "unique(list1)"
   ]
  },
  {
   "cell_type": "markdown",
   "id": "cb41f026-decb-4b3c-9fb7-b27c2646fb04",
   "metadata": {},
   "source": [
    "### 3. Write a Python function that accepts a string and calculates the number of upper case letters and lower case letters.\n",
    "\n",
    "    Sample String : 'Hello Mr. Roshan, how are you this fine Tuesday?'\n",
    "    Expected Output : \n",
    "    No. of Upper case characters : 4\n",
    "    No. of Lower case Characters : 33"
   ]
  },
  {
   "cell_type": "code",
   "execution_count": 4,
   "id": "47e290d6",
   "metadata": {},
   "outputs": [
    {
     "name": "stdout",
     "output_type": "stream",
     "text": [
      "No. of Upper case characters : 4\n",
      "No. of Lower case characters : 33\n"
     ]
    }
   ],
   "source": [
    "sample = 'Hello Mr. Roshan, how are you this fine Tuesday?'\n",
    "def counting(string):\n",
    "    uc=lc=0\n",
    "    for i in range(len(string)):\n",
    "        if string[i].islower()==1:\n",
    "            lc+=1\n",
    "        elif string[i].isupper()==1:\n",
    "            uc+=1\n",
    "    print('No. of Upper case characters : '+str(uc))\n",
    "    print('No. of Lower case characters : '+str(lc))\n",
    "    \n",
    "    \n",
    "counting(sample)"
   ]
  },
  {
   "cell_type": "markdown",
   "id": "8a0e1caf-e446-40e5-9418-348d5a9394d2",
   "metadata": {},
   "source": [
    "### 4.Create & Read a file constitution.txt. Create a dictionary with an entry for each letter in the alphabet. The keys are letters and the values will be the counts of the number of times a letter has viewed. Go through each character in data, skipping characters that aren't letters. For every letter, increment the count stored in letter_counts for that letter. Create a bar chart for the letter frequencies. "
   ]
  },
  {
   "cell_type": "code",
   "execution_count": 5,
   "id": "9577a01d",
   "metadata": {},
   "outputs": [
    {
     "data": {
      "text/plain": [
       "{'b': 1,\n",
       " 'h': 5,\n",
       " 'r': 1,\n",
       " 's': 8,\n",
       " 't': 6,\n",
       " 'u': 1,\n",
       " 'm': 4,\n",
       " 'e': 8,\n",
       " 'c': 3,\n",
       " 'a': 8,\n",
       " 'l': 3,\n",
       " 'w': 2,\n",
       " 'n': 4,\n",
       " 'i': 10,\n",
       " 'p': 1,\n",
       " 'd': 4,\n",
       " 'f': 2,\n",
       " 'y': 1,\n",
       " 'o': 2}"
      ]
     },
     "execution_count": 5,
     "metadata": {},
     "output_type": "execute_result"
    }
   ],
   "source": [
    "File = open(\"constitution.txt\",\"w\")\n",
    "File.write('This is a new sample file created which is named as constitution. This file is made by Mahad')\n",
    "File.close()\n",
    "File = open(\"constitution.txt\",\"r\")\n",
    "text = File.read()\n",
    "textList = list(set(text.lower()))\n",
    "freqDir = {}\n",
    "for i in textList:\n",
    "    if str.isalpha(i):\n",
    "        freqDir[i] = 0\n",
    "for i in text:\n",
    "    if str.isalpha(i):\n",
    "        freqDir[i.lower()]+=1\n",
    "\n",
    "File.close()\n",
    "freqDir"
   ]
  },
  {
   "cell_type": "markdown",
   "id": "d9efe72b-87cb-4430-8a82-05e5050f92bc",
   "metadata": {},
   "source": [
    "### 5. For this challenge,\n",
    "\n",
    "Create a bank account class that has two attributes:\n",
    "\n",
    "owner balance and two methods:\n",
    "\n",
    "deposit withdraw As an added requirement, withdrawals may not exceed the available balance.\n",
    "\n",
    "Instantiate your class, make several deposits and withdrawals, and test to make sure the account can't be overdrawn."
   ]
  },
  {
   "cell_type": "code",
   "execution_count": 6,
   "id": "8136653b",
   "metadata": {},
   "outputs": [
    {
     "name": "stdout",
     "output_type": "stream",
     "text": [
      "200Rs deposited in the account\n",
      "1200\n",
      "500Rs amount withdrawn, you are now left with Rs700\n",
      "700\n",
      "Withdrawal not possible as amount is low\n",
      "400Rs amount withdrawn, you are now left with Rs300\n",
      "300\n",
      "300Rs amount withdrawn, you are now left with Rs0\n"
     ]
    }
   ],
   "source": [
    "class Account():\n",
    "    def __init__(self,balance):\n",
    "        self.balance=balance\n",
    "        \n",
    "    def withdraw(self,money):\n",
    "        if money>self.balance:\n",
    "            print(\"Withdrawal not possible as amount is low\")\n",
    "        else:\n",
    "            self.balance-=money\n",
    "            print(str(money)+\"Rs amount withdrawn, you are now left with Rs\"+str(self.balance))\n",
    "    def deposite(self,money):\n",
    "        self.balance+=money\n",
    "        print(str(money)+\"Rs deposited in the account\")\n",
    "        \n",
    "\n",
    "obj=Account(1000)\n",
    "obj.deposite(200)\n",
    "print(obj.balance)\n",
    "obj.withdraw(500)\n",
    "print(obj.balance)\n",
    "obj.withdraw(800)\n",
    "obj.withdraw(400)\n",
    "print(obj.balance)\n",
    "obj.withdraw(300)"
   ]
  },
  {
   "cell_type": "markdown",
   "id": "9d59550f-c8a5-4149-ad3f-f275a39c8086",
   "metadata": {},
   "source": [
    "### 6. Playing Cards\n",
    "4 suits (Hearts, Diamonds, Spades and Clubs)\n",
    "13 ranks (2 through 10, then the face cards Jack, Queen, King and Ace)\n",
    "\n",
    "    -- Total 52 Cards\n",
    "\n",
    "### The Game\n",
    " Jacks, Queens and Kings all have a rank of 10. Aces have a rank of either 11 or 1 as needed to reach 21 without busting. As a starting point in your program, you may want to assign variables to store a list of suits, ranks, and then use a dictionary to map ranks to values.\n",
    " 1. Create a deck of 52 cards\n",
    " 2. Shuffle the deck.\n",
    " 3. Display the winner if somebody's getting an Ace."
   ]
  },
  {
   "cell_type": "code",
   "execution_count": 7,
   "id": "c81e90a8",
   "metadata": {},
   "outputs": [
    {
     "name": "stdout",
     "output_type": "stream",
     "text": [
      "{'Ace': [1, 11], '2': 2, '3': 3, '4': 4, '5': 5, '6': 6, '7': 7, '8': 8, '9': 9, '10': 10, 'Jack': 10, 'Queen': 10, 'King': 10}\n"
     ]
    },
    {
     "data": {
      "text/plain": [
       "52"
      ]
     },
     "execution_count": 7,
     "metadata": {},
     "output_type": "execute_result"
    }
   ],
   "source": [
    "from random import sample\n",
    "deck13 = list(\"Ace 2 3 4 5 6 7 8 9 10 Jack Queen King\".split()*4)\n",
    "deckValueDir = {}\n",
    "for i in deck13[:13]:\n",
    "    if i == \"Jack\" or i == \"Queen\" or i == \"King\":\n",
    "        deckValueDir[i] = 10\n",
    "    elif i == \"Ace\":\n",
    "        deckValueDir[i] = [1,11]\n",
    "    else :\n",
    "        deckValueDir[i] = int(i)\n",
    "print(deckValueDir)\n",
    "len(deck13)"
   ]
  },
  {
   "cell_type": "code",
   "execution_count": 8,
   "id": "aae0eadb",
   "metadata": {},
   "outputs": [
    {
     "name": "stdout",
     "output_type": "stream",
     "text": [
      "Total number of class : 52\n",
      "['Ace', '2', '3', '4', '5', '6', '7', '8', '9', '10', 'Jack', 'Queen', 'King']\n",
      "['9', '6', '6', '2', 'Ace', 'Jack', '10', '2', '5', '10', 'Queen', '3', '9', 'Queen', '3', '7', 'Ace', '9', '6', '8', 'Ace', '4', '7', 'Jack', '4', '5', '8', 'Queen', '2', '2', '6', '5', 'Jack', '3', '8', 'Ace', 'King', 'Jack', '3', '4', 'King', '7', 'King', 'Queen', '10', '4', '8', '9', '7', 'King', '5', '10']\n"
     ]
    }
   ],
   "source": [
    "print(\"Total number of class :\",len(deck13))\n",
    "\n",
    "def shuffle(deck13):\n",
    "    deck13 = sample(deck13,len(deck13))\n",
    "    return deck13\n",
    "print(deck13[:13])\n",
    "print(shuffle(deck13))\n",
    "# print(deck13[:13])"
   ]
  },
  {
   "cell_type": "code",
   "execution_count": 9,
   "id": "d2d9b7ab",
   "metadata": {},
   "outputs": [
    {
     "data": {
      "text/plain": [
       "'You Lost , You draw 3'"
      ]
     },
     "execution_count": 9,
     "metadata": {},
     "output_type": "execute_result"
    }
   ],
   "source": [
    "def draw(deck13):\n",
    "    return sample(deck13,1)[0]\n",
    "def checkWin():\n",
    "    d = sample(deck13,1)[0]\n",
    "    return \"You Win\" if d == \"Ace\" else \"You Lost , You draw \"+d\n",
    "# draw(deck13)\n",
    "checkWin()"
   ]
  },
  {
   "cell_type": "markdown",
   "id": "1d243239-dc35-4280-9e41-d75ea100b58d",
   "metadata": {},
   "source": [
    "### 7. Generate Password: 17 characters , minimum 1 Uppercase, 1 lowercase, 1 digits and 2 minimun special characters"
   ]
  },
  {
   "cell_type": "code",
   "execution_count": 10,
   "id": "aa0f031c",
   "metadata": {},
   "outputs": [
    {
     "name": "stdout",
     "output_type": "stream",
     "text": [
      "Password : /#Op8-+tNx4vKM3Tp\n"
     ]
    }
   ],
   "source": [
    "from random import *\n",
    "lc=uc=dc=sc=0\n",
    "ans=\"\"\n",
    "while(len(ans)<5):\n",
    "    num=randint(0,4)\n",
    "    if num==0 and lc<1:\n",
    "        ans+=chr(randint(97,122))\n",
    "        lc+=1\n",
    "    elif num==1 and uc<1:\n",
    "        char=chr(randint(97,122))\n",
    "        ans+=char.upper()\n",
    "        uc+=1\n",
    "    elif num==2 and dc<1:\n",
    "        ans+=str(randint(0,9))\n",
    "        dc+=1\n",
    "    elif num==3 and sc<2:\n",
    "        ans+=chr(randint(33,47))\n",
    "        sc+=1\n",
    "        \n",
    "while(len(ans)<17):\n",
    "    num=randint(0,4)\n",
    "    if num==0 :\n",
    "        ans+=chr(randint(97,122))\n",
    "        lc+=1\n",
    "    elif num==1 :\n",
    "        char=chr(randint(97,122))\n",
    "        ans+=char.upper()\n",
    "        uc+=1\n",
    "    elif num==2 :\n",
    "        ans+=str(randint(0,9))\n",
    "        dc+=1\n",
    "    elif num==3 :\n",
    "        ans+=chr(randint(33,47))\n",
    "        sc+=1\n",
    "        \n",
    "\n",
    "print(\"Password : \"+ans)"
   ]
  },
  {
   "cell_type": "markdown",
   "id": "5090a46a-a0f2-45e5-b058-f200ab845335",
   "metadata": {},
   "source": [
    "### 8. you are given a list which is [3, 5, 7, 3, 5, 7, 3, 545, 34, 235, 234, 6]. You have to sort it such that the seventh element is greatest of all, second element is greater than last element and second last element is not greater than sum of 8 and sixth element"
   ]
  },
  {
   "cell_type": "code",
   "execution_count": 11,
   "id": "5a6866b5-fbff-4206-be46-a51961090c8b",
   "metadata": {},
   "outputs": [
    {
     "data": {
      "text/plain": [
       "[3, 5, 7, 3, 5, 7, 3, 545, 34, 235, 234, 6]"
      ]
     },
     "execution_count": 11,
     "metadata": {},
     "output_type": "execute_result"
    }
   ],
   "source": [
    "l=[3, 5, 7, 3, 5, 7, 3, 545, 34, 235, 234, 6]\n",
    "l"
   ]
  },
  {
   "cell_type": "code",
   "execution_count": 12,
   "id": "76376bdb",
   "metadata": {},
   "outputs": [
    {
     "data": {
      "text/plain": [
       "[3, 6, 7, 3, 5, 234, 545, 3, 34, 235, 7, 5]"
      ]
     },
     "execution_count": 12,
     "metadata": {},
     "output_type": "execute_result"
    }
   ],
   "source": [
    "# 7th greatest\n",
    "l=[3, 5, 7, 3, 5, 7, 3, 545, 34, 235, 234, 6]\n",
    "maxi = max(l)\n",
    "ind=l.index(maxi)\n",
    "l[ind],l[6]=l[6],l[ind]\n",
    " # second greater than last element\n",
    "if l[1]<l[-1]:\n",
    "   l[1],l[-1] =l[-1],l[1]\n",
    "# second last element is 8 and 6th\n",
    "if l[-2]>l[5]+8:\n",
    "    l[-2],l[5] = l[5],l[-2]\n",
    "    \n",
    "l"
   ]
  }
 ],
 "metadata": {
  "kernelspec": {
   "display_name": "Python 3 (ipykernel)",
   "language": "python",
   "name": "python3"
  },
  "language_info": {
   "codemirror_mode": {
    "name": "ipython",
    "version": 3
   },
   "file_extension": ".py",
   "mimetype": "text/x-python",
   "name": "python",
   "nbconvert_exporter": "python",
   "pygments_lexer": "ipython3",
   "version": "3.9.13"
  }
 },
 "nbformat": 4,
 "nbformat_minor": 5
}
