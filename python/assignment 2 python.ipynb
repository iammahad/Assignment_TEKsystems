{
 "cells": [
  {
   "cell_type": "markdown",
   "id": "d60c0bde",
   "metadata": {},
   "source": [
    "1.\tCreate a python program to find duplicate files by content. User will input path and it will scan all directories, sub-directories to find all duplicates files.\n",
    "Delete the found duplicate file.\n",
    "[Hint: use hashlib]\n"
   ]
  },
  {
   "cell_type": "code",
   "execution_count": 22,
   "id": "79ff4055",
   "metadata": {},
   "outputs": [
    {
     "name": "stdout",
     "output_type": "stream",
     "text": [
      "No Duplicate Files\n"
     ]
    }
   ],
   "source": [
    "import numpy as np\n",
    "import os\n",
    "import hashlib\n",
    "#Function to find duplicate files\n",
    "def findDuplicate(path):\n",
    "    hashedFilePath = {}\n",
    "    for root, dirName, files in os.walk(path):\n",
    "        for file in files:\n",
    "            filePath = os.path.join(root, file)\n",
    "            with open(filePath, 'rb') as f:\n",
    "                fileHash = hashlib.sha256(f.read()).hexdigest()\n",
    "            if fileHash in hashedFilePath:\n",
    "                hashedFilePath[fileHash].append(filePath)\n",
    "            else:\n",
    "                hashedFilePath[fileHash] = [filePath]\n",
    "    return {fileHash:filePath for fileHash, filePath in hashedFilePath.items() if len(filePath) > 1}\n",
    "# path = input(\"Enter file path: \")\n",
    "path = \"C:/Users/arysingh/OneDrive - ALLEGIS GROUP/Desktop/Test\"\n",
    "duplicateFiles = findDuplicate(path)\n",
    "if len(duplicateFiles) == 0:\n",
    "    print(\"No Duplicate Files\")\n",
    "else:\n",
    "    #removing duplicate files\n",
    "    for fileHash, filePath in duplicateFiles.items():\n",
    "        print(f\"fileHash : {fileHash}\")\n",
    "        for file in filePath[:-1]:\n",
    "            os.remove(file)"
   ]
  },
  {
   "cell_type": "markdown",
   "id": "4e60a568",
   "metadata": {},
   "source": [
    "2.\tGenerate random Password with exact length = 6, with minimum 1 uppercase, 2 lowercase, 2 digits, and remaining special characters.\n",
    "Using these packages [random, strings]\n"
   ]
  },
  {
   "cell_type": "code",
   "execution_count": 11,
   "id": "7cc20ada",
   "metadata": {},
   "outputs": [
    {
     "name": "stdout",
     "output_type": "stream",
     "text": [
      "Random Password : sz-K83\n"
     ]
    }
   ],
   "source": [
    "from random import *\n",
    "lc=uc=dc=sc=0\n",
    "ans=\"\"\n",
    "while(len(ans)<6):\n",
    "    num=randint(0,4)\n",
    "    if num==0 and lc<2:\n",
    "        ans+=chr(randint(97,122))\n",
    "        lc+=1\n",
    "    elif num==1 and uc<1:\n",
    "        char=chr(randint(97,122))\n",
    "        ans+=char.upper()\n",
    "        uc+=1\n",
    "    elif num==2 and dc<3:\n",
    "        ans+=str(randint(0,9))\n",
    "        dc+=1\n",
    "    elif num==3 and sc<1:\n",
    "        ans+=chr(randint(33,47))\n",
    "        sc+=1\n",
    "\n",
    "print(\"Random Password : \"+ans)"
   ]
  },
  {
   "cell_type": "markdown",
   "id": "236c37eb",
   "metadata": {},
   "source": [
    "3.\tCreate 2D array and update the same 2D array provided that every prime number position should be replaced by cube of the positioned number."
   ]
  },
  {
   "cell_type": "code",
   "execution_count": 35,
   "id": "d497ffae",
   "metadata": {},
   "outputs": [
    {
     "data": {
      "text/plain": [
       "array([[    0,     1,     8,    27],\n",
       "       [    4,   125,     6,   343],\n",
       "       [    8,     9,    10,  1331],\n",
       "       [   12,  2197,    14,    15],\n",
       "       [   16,  4913,    18,  6859],\n",
       "       [   20,    21,    22, 12167],\n",
       "       [   24,    25,    26,    27],\n",
       "       [   28, 24389,    30, 29791]])"
      ]
     },
     "execution_count": 35,
     "metadata": {},
     "output_type": "execute_result"
    }
   ],
   "source": [
    "def prime(x):\n",
    "    if x < 2:\n",
    "        return False\n",
    "    for i in range(2, x):\n",
    "        if x % i == 0:\n",
    "            return False\n",
    "    return True\n",
    "\n",
    "def Solution():\n",
    "    k=0\n",
    "    for i in range(mat.shape[0]):\n",
    "        for j in range(mat.shape[1]):\n",
    "            if prime(k):\n",
    "                mat[i,j] = (k) ** 3\n",
    "            k+=1\n",
    "    return mat\n",
    "\n",
    "# row = int(input(\"enter the number of rows :\"))\n",
    "# col = int(input(\"enter the number of cols :\"))\n",
    "row=8\n",
    "col=4\n",
    "mat=(np.arange(row*col)).reshape(row,col)\n",
    "# mat=np.ones((row,col),dtype='int32')\n",
    "answer_matrix=Solution()\n",
    "answer_matrix"
   ]
  },
  {
   "cell_type": "markdown",
   "id": "a1fa228f",
   "metadata": {},
   "source": [
    "4.\tPython program to get the sum of every cubed value and its previous integer. "
   ]
  },
  {
   "cell_type": "code",
   "execution_count": 42,
   "id": "45b22745",
   "metadata": {},
   "outputs": [
    {
     "data": {
      "text/plain": [
       "array([[    0,     1,     9,    36],\n",
       "       [    4,   129,     6,   349],\n",
       "       [    8,     9,    10,  1341],\n",
       "       [   12,  2209,    14,    15],\n",
       "       [   16,  4929,    18,  6877],\n",
       "       [   20,    21,    22, 12189],\n",
       "       [   24,    25,    26,    27],\n",
       "       [   28, 24417,    30, 29821]])"
      ]
     },
     "execution_count": 42,
     "metadata": {},
     "output_type": "execute_result"
    }
   ],
   "source": [
    "def findSum(mat2, k ):\n",
    "    ans=[]\n",
    "    for i in range(mat2.shape[0]):\n",
    "        for j in range(mat2.shape[1]):\n",
    "            \n",
    "            if prime(k):\n",
    "                sum1=0\n",
    "                if j>0:\n",
    "                    sum1+= mat2[i][j-1]\n",
    "                else:\n",
    "                    sum1+=mat2[i-1][mat2.shape[1]-1]\n",
    "                    \n",
    "                mat2[i][j]+=sum1\n",
    "                \n",
    "            k += 1\n",
    "findSum(answer_matrix,0)\n",
    "answer_matrix"
   ]
  },
  {
   "cell_type": "markdown",
   "id": "40e46e44",
   "metadata": {},
   "source": [
    "5.\tGiven two arrays, find their intersection. Examples:\n",
    "\n",
    "Input:  arr1[] = [1, 3, 4, 5, 7]\n",
    "\n",
    "             arr2[] = [2, 3, 5, 6]\n"
   ]
  },
  {
   "cell_type": "code",
   "execution_count": 20,
   "id": "d17ed44e",
   "metadata": {},
   "outputs": [
    {
     "name": "stdout",
     "output_type": "stream",
     "text": [
      "8 7 8 8 6 5 99\n",
      "99 7 8 8 \n"
     ]
    },
    {
     "data": {
      "text/plain": [
       "[8, 7, 8, 8, 99]"
      ]
     },
     "execution_count": 20,
     "metadata": {},
     "output_type": "execute_result"
    }
   ],
   "source": [
    "def findIntersection(nums1, nums2, intersectionArr):\n",
    "    for num in nums1:\n",
    "        if num in nums2:\n",
    "            intersectionArr.append(num)\n",
    "    return intersectionArr\n",
    "\n",
    "nums1 = list(map(int, input().split()))\n",
    "nums2 = list(map(int, input().split()))\n",
    "intersectionArr = []\n",
    "findIntersection(nums1, nums2, intersectionArr)"
   ]
  },
  {
   "cell_type": "markdown",
   "id": "89441db6",
   "metadata": {},
   "source": [
    "6.\tCreate a 7 x 7  2D array having only multiples of 7. And return the last element of the same."
   ]
  },
  {
   "cell_type": "code",
   "execution_count": 43,
   "id": "7e647fd8",
   "metadata": {},
   "outputs": [
    {
     "name": "stdout",
     "output_type": "stream",
     "text": [
      "84\n"
     ]
    },
    {
     "data": {
      "text/plain": [
       "[[0, 7, 14, 21, 28, 35, 42],\n",
       " [7, 14, 21, 28, 35, 42, 49],\n",
       " [14, 21, 28, 35, 42, 49, 56],\n",
       " [21, 28, 35, 42, 49, 56, 63],\n",
       " [28, 35, 42, 49, 56, 63, 70],\n",
       " [35, 42, 49, 56, 63, 70, 77],\n",
       " [42, 49, 56, 63, 70, 77, 84]]"
      ]
     },
     "execution_count": 43,
     "metadata": {},
     "output_type": "execute_result"
    }
   ],
   "source": [
    "# row = int(input(\"enter the number of rows :\"))\n",
    "# col = int(input(\"enter the number of cols :\"))\n",
    "row=7\n",
    "col=7\n",
    "mat=(np.arange(0,49)).reshape(row,col)\n",
    "mat\n",
    "mat = [[7*(i+j) for i in range(row)]for j in range(0, col)]\n",
    "# print(mat)\n",
    "print(mat[6][6])\n",
    "mat"
   ]
  },
  {
   "cell_type": "markdown",
   "id": "95c77cff",
   "metadata": {},
   "source": [
    "7.\tChecker Board Patten using Numpy:\n",
    "[\n",
    "\n",
    "    1   0   1   0   1   0   1\n",
    "\n",
    "    0   1   0   1   0   1   0\n",
    "    \n",
    "    1   0   1   0   1   0   1\n",
    "    \n",
    "    0   1   0   1   0   1   0\n",
    "    \n",
    "    1   0   1   0   1   0   1  ]\n"
   ]
  },
  {
   "cell_type": "code",
   "execution_count": 46,
   "id": "32d8ad2f",
   "metadata": {},
   "outputs": [
    {
     "data": {
      "text/plain": [
       "array([[1, 0, 1, 0, 1],\n",
       "       [0, 1, 0, 1, 0],\n",
       "       [1, 0, 1, 0, 1],\n",
       "       [0, 1, 0, 1, 0],\n",
       "       [1, 0, 1, 0, 1]], dtype=int16)"
      ]
     },
     "execution_count": 46,
     "metadata": {},
     "output_type": "execute_result"
    }
   ],
   "source": [
    "import numpy as np\n",
    "def checkerBoard(x, y):\n",
    "    npArr = np.ones((x, y),dtype='int16')\n",
    "    npArr[1::2, ::2] = 0\n",
    "    npArr[::2, 1::2] = 0\n",
    "    return npArr\n",
    "\n",
    "x=y=5\n",
    "mat=checkerBoard(x, y)\n",
    "mat"
   ]
  },
  {
   "cell_type": "markdown",
   "id": "11150bde",
   "metadata": {},
   "source": [
    "8.\tCreate a given Matrix:\n",
    "[  A,     B,     C,       D\n",
    "\n",
    "   E,      F,     G,       H\n",
    "   \n",
    "    I,      a,      K,       L\n",
    "    \n",
    "   M,    N,     o,       P\n",
    "   \n",
    "   Q,     R,      S,       T\n",
    "   \n",
    "   U,     0,     W,      O ]\n",
    "\n",
    "Replace all the vowels by np.nan\n",
    "A, E, I, O U  -- >  np.nan\n",
    "Return the count of the missing values\n"
   ]
  },
  {
   "cell_type": "code",
   "execution_count": 3,
   "id": "54f1d2c8",
   "metadata": {},
   "outputs": [
    {
     "name": "stdout",
     "output_type": "stream",
     "text": [
      "['nan', 'B', 'C', 'D', 'nan', 'F', 'G', 'H', 'nan', 'J', 'K', 'L', 'M', 'N', 'nan', 'P', 'Q', 'R', 'S', 'T', 'nan', 'V', 'W', 'X']\n",
      "count of the missing values : 5\n"
     ]
    }
   ],
   "source": [
    "arr_6=list(\"ABCDEFGHIJKLMNOPQRSTUVWX\")\n",
    "arr_7=list(\"AEIOU\")\n",
    "# arr_6.reshape(4,6)\n",
    "# arr_7\n",
    "j=0\n",
    "for i in range(0,len(arr_6)):\n",
    "    if j<len(arr_7) and arr_6[i]==arr_7[j]:\n",
    "        j+=1\n",
    "        arr_6[i]=np.nan\n",
    "\n",
    "arr_6=np.array(arr_6)\n",
    "arr_6=list(arr_6)\n",
    "# arr_6=arr_6.reshape(4,6)\n",
    "print(arr_6)\n",
    "count=0\n",
    "for i in arr_6:\n",
    "        if i=='nan':\n",
    "           count += 1\n",
    "print(\"count of the missing values :\",count)"
   ]
  }
 ],
 "metadata": {
  "kernelspec": {
   "display_name": "Python 3 (ipykernel)",
   "language": "python",
   "name": "python3"
  },
  "language_info": {
   "codemirror_mode": {
    "name": "ipython",
    "version": 3
   },
   "file_extension": ".py",
   "mimetype": "text/x-python",
   "name": "python",
   "nbconvert_exporter": "python",
   "pygments_lexer": "ipython3",
   "version": "3.9.13"
  }
 },
 "nbformat": 4,
 "nbformat_minor": 5
}
